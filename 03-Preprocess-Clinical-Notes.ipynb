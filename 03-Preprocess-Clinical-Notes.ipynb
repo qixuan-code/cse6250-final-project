{
 "cells": [
  {
   "cell_type": "code",
   "execution_count": 1,
   "metadata": {},
   "outputs": [],
   "source": [
    "import pandas as pd\n",
    "import os\n",
    "import numpy as np\n",
    "import re\n",
    "import preprocess"
   ]
  },
  {
   "cell_type": "code",
   "execution_count": 2,
   "metadata": {},
   "outputs": [],
   "source": [
    "PREPROCESS = \"data/\""
   ]
  },
  {
   "cell_type": "code",
   "execution_count": 3,
   "metadata": {},
   "outputs": [
    {
     "data": {
      "text/plain": [
       "(181483, 20)"
      ]
     },
     "execution_count": 3,
     "metadata": {},
     "output_type": "execute_result"
    }
   ],
   "source": [
    "clinical_notes = pd.read_pickle(os.path.join(PREPROCESS, \"sub_notes.p\"))\n",
    "clinical_notes.shape"
   ]
  },
  {
   "cell_type": "code",
   "execution_count": 4,
   "metadata": {},
   "outputs": [],
   "source": [
    "sub_notes = clinical_notes[clinical_notes.SUBJECT_ID.notnull()]\n",
    "sub_notes = sub_notes[sub_notes.CHARTTIME.notnull()]\n",
    "sub_notes = sub_notes[sub_notes.TEXT.notnull()]"
   ]
  },
  {
   "cell_type": "code",
   "execution_count": 5,
   "metadata": {},
   "outputs": [
    {
     "data": {
      "text/plain": [
       "(181483, 20)"
      ]
     },
     "execution_count": 5,
     "metadata": {},
     "output_type": "execute_result"
    }
   ],
   "source": [
    "sub_notes.shape"
   ]
  },
  {
   "cell_type": "code",
   "execution_count": 6,
   "metadata": {},
   "outputs": [],
   "source": [
    "sub_notes = sub_notes[['SUBJECT_ID', 'HADM_ID_y', 'CHARTTIME', 'TEXT']]"
   ]
  },
  {
   "cell_type": "code",
   "execution_count": 7,
   "metadata": {},
   "outputs": [],
   "source": [
    "sub_notes['preprocessed_text'] = None"
   ]
  },
  {
   "cell_type": "code",
   "execution_count": 8,
   "metadata": {},
   "outputs": [
    {
     "name": "stderr",
     "output_type": "stream",
     "text": [
      "[nltk_data] Downloading package punkt to /home/jupyter/nltk_data...\n",
      "[nltk_data]   Package punkt is already up-to-date!\n"
     ]
    },
    {
     "data": {
      "text/plain": [
       "True"
      ]
     },
     "execution_count": 8,
     "metadata": {},
     "output_type": "execute_result"
    }
   ],
   "source": [
    "import nltk\n",
    "nltk.download('punkt')\n"
   ]
  },
  {
   "cell_type": "code",
   "execution_count": 9,
   "metadata": {
    "collapsed": true,
    "jupyter": {
     "outputs_hidden": true
    },
    "tags": []
   },
   "outputs": [
    {
     "ename": "KeyboardInterrupt",
     "evalue": "",
     "output_type": "error",
     "traceback": [
      "\u001b[0;31m---------------------------------------------------------------------------\u001b[0m",
      "\u001b[0;31mKeyboardInterrupt\u001b[0m                         Traceback (most recent call last)",
      "Cell \u001b[0;32mIn[9], line 3\u001b[0m\n\u001b[1;32m      1\u001b[0m \u001b[38;5;28;01mfor\u001b[39;00m each_note \u001b[38;5;129;01min\u001b[39;00m sub_notes\u001b[38;5;241m.\u001b[39mitertuples():\n\u001b[1;32m      2\u001b[0m     text \u001b[38;5;241m=\u001b[39m each_note\u001b[38;5;241m.\u001b[39mTEXT\n\u001b[0;32m----> 3\u001b[0m     sub_notes\u001b[38;5;241m.\u001b[39mat[each_note\u001b[38;5;241m.\u001b[39mIndex, \u001b[38;5;124m'\u001b[39m\u001b[38;5;124mpreprocessed_text\u001b[39m\u001b[38;5;124m'\u001b[39m] \u001b[38;5;241m=\u001b[39m \u001b[43mpreprocess\u001b[49m\u001b[38;5;241;43m.\u001b[39;49m\u001b[43mgetSentences\u001b[49m\u001b[43m(\u001b[49m\u001b[43mtext\u001b[49m\u001b[43m)\u001b[49m\n",
      "File \u001b[0;32m~/ConvolutionMedicalNer/preprocess.py:18\u001b[0m, in \u001b[0;36mgetSentences\u001b[0;34m(t)\u001b[0m\n\u001b[1;32m     17\u001b[0m \u001b[38;5;28;01mdef\u001b[39;00m \u001b[38;5;21mgetSentences\u001b[39m(t):\n\u001b[0;32m---> 18\u001b[0m     \u001b[38;5;28;01mreturn\u001b[39;00m \u001b[38;5;28;43mlist\u001b[39;49m\u001b[43m(\u001b[49m\u001b[43mpreprocess_mimic\u001b[49m\u001b[43m(\u001b[49m\u001b[43mt\u001b[49m\u001b[43m)\u001b[49m\u001b[43m)\u001b[49m\n",
      "File \u001b[0;32m~/ConvolutionMedicalNer/preprocess.py:56\u001b[0m, in \u001b[0;36mpreprocess_mimic\u001b[0;34m(text)\u001b[0m\n\u001b[1;32m     48\u001b[0m \u001b[38;5;28;01mdef\u001b[39;00m \u001b[38;5;21mpreprocess_mimic\u001b[39m(text):\n\u001b[1;32m     49\u001b[0m \u001b[38;5;250m    \u001b[39m\u001b[38;5;124;03m\"\"\"\u001b[39;00m\n\u001b[1;32m     50\u001b[0m \u001b[38;5;124;03m    Preprocess reports in MIMIC-III.\u001b[39;00m\n\u001b[1;32m     51\u001b[0m \u001b[38;5;124;03m    1. remove [**Patterns**] and signature\u001b[39;00m\n\u001b[0;32m   (...)\u001b[0m\n\u001b[1;32m     54\u001b[0m \u001b[38;5;124;03m    4. lowercase\u001b[39;00m\n\u001b[1;32m     55\u001b[0m \u001b[38;5;124;03m    \"\"\"\u001b[39;00m\n\u001b[0;32m---> 56\u001b[0m     \u001b[38;5;28;01mfor\u001b[39;00m sec \u001b[38;5;129;01min\u001b[39;00m split_heading(\u001b[43mclean_text\u001b[49m\u001b[43m(\u001b[49m\u001b[43mtext\u001b[49m\u001b[43m)\u001b[49m):\n\u001b[1;32m     57\u001b[0m         \u001b[38;5;28;01mfor\u001b[39;00m sent \u001b[38;5;129;01min\u001b[39;00m sent_tokenize(sec):\n\u001b[1;32m     58\u001b[0m             text \u001b[38;5;241m=\u001b[39m \u001b[38;5;124m'\u001b[39m\u001b[38;5;124m \u001b[39m\u001b[38;5;124m'\u001b[39m\u001b[38;5;241m.\u001b[39mjoin(word_tokenize(sent))\n",
      "File \u001b[0;32m~/ConvolutionMedicalNer/preprocess.py:37\u001b[0m, in \u001b[0;36mclean_text\u001b[0;34m(text)\u001b[0m\n\u001b[1;32m     34\u001b[0m text \u001b[38;5;241m=\u001b[39m re\u001b[38;5;241m.\u001b[39msub(\u001b[38;5;124mr\u001b[39m\u001b[38;5;124m'\u001b[39m\u001b[38;5;124m_\u001b[39m\u001b[38;5;124m'\u001b[39m, \u001b[38;5;124m'\u001b[39m\u001b[38;5;124m \u001b[39m\u001b[38;5;124m'\u001b[39m, text)\n\u001b[1;32m     36\u001b[0m start \u001b[38;5;241m=\u001b[39m \u001b[38;5;241m0\u001b[39m\n\u001b[0;32m---> 37\u001b[0m end \u001b[38;5;241m=\u001b[39m \u001b[43mfind_end\u001b[49m\u001b[43m(\u001b[49m\u001b[43mtext\u001b[49m\u001b[43m)\u001b[49m\n\u001b[1;32m     38\u001b[0m new_text \u001b[38;5;241m=\u001b[39m \u001b[38;5;124m'\u001b[39m\u001b[38;5;124m'\u001b[39m\n\u001b[1;32m     39\u001b[0m \u001b[38;5;28;01mif\u001b[39;00m start \u001b[38;5;241m>\u001b[39m \u001b[38;5;241m0\u001b[39m:\n",
      "File \u001b[0;32m~/ConvolutionMedicalNer/preprocess.py:100\u001b[0m, in \u001b[0;36mfind_end\u001b[0;34m(text)\u001b[0m\n\u001b[1;32m     92\u001b[0m patterns \u001b[38;5;241m=\u001b[39m [\n\u001b[1;32m     93\u001b[0m     re\u001b[38;5;241m.\u001b[39mcompile(\u001b[38;5;124mr\u001b[39m\u001b[38;5;124m'\u001b[39m\u001b[38;5;124mBY ELECTRONICALLY SIGNING THIS REPORT\u001b[39m\u001b[38;5;124m'\u001b[39m, re\u001b[38;5;241m.\u001b[39mI),\n\u001b[1;32m     94\u001b[0m     re\u001b[38;5;241m.\u001b[39mcompile(\u001b[38;5;124mr\u001b[39m\u001b[38;5;124m'\u001b[39m\u001b[38;5;124m\\\u001b[39m\u001b[38;5;124mn \u001b[39m\u001b[38;5;124m{\u001b[39m\u001b[38;5;124m3,}DR.\u001b[39m\u001b[38;5;124m'\u001b[39m, re\u001b[38;5;241m.\u001b[39mI),\n\u001b[0;32m   (...)\u001b[0m\n\u001b[1;32m     97\u001b[0m     re\u001b[38;5;241m.\u001b[39mcompile(\u001b[38;5;124mr\u001b[39m\u001b[38;5;124m'\u001b[39m\u001b[38;5;124mM\u001b[39m\u001b[38;5;124m\\\u001b[39m\u001b[38;5;124m[0KM\u001b[39m\u001b[38;5;124m\\\u001b[39m\u001b[38;5;124m[0KM\u001b[39m\u001b[38;5;124m'\u001b[39m)\n\u001b[1;32m     98\u001b[0m ]\n\u001b[1;32m     99\u001b[0m \u001b[38;5;28;01mfor\u001b[39;00m pattern \u001b[38;5;129;01min\u001b[39;00m patterns:\n\u001b[0;32m--> 100\u001b[0m     matchobj \u001b[38;5;241m=\u001b[39m \u001b[43mpattern\u001b[49m\u001b[38;5;241;43m.\u001b[39;49m\u001b[43msearch\u001b[49m\u001b[43m(\u001b[49m\u001b[43mtext\u001b[49m\u001b[43m)\u001b[49m\n\u001b[1;32m    101\u001b[0m     \u001b[38;5;28;01mif\u001b[39;00m matchobj:\n\u001b[1;32m    102\u001b[0m         ends\u001b[38;5;241m.\u001b[39mappend(matchobj\u001b[38;5;241m.\u001b[39mstart())\n",
      "\u001b[0;31mKeyboardInterrupt\u001b[0m: "
     ]
    }
   ],
   "source": [
    "for each_note in sub_notes.itertuples():\n",
    "    text = each_note.TEXT\n",
    "    sub_notes.at[each_note.Index, 'preprocessed_text'] = preprocess.getSentences(text)"
   ]
  },
  {
   "cell_type": "markdown",
   "metadata": {},
   "source": [
    "### Save notes"
   ]
  },
  {
   "cell_type": "code",
   "execution_count": null,
   "metadata": {},
   "outputs": [],
   "source": [
    "pd.to_pickle(sub_notes, os.path.join(PREPROCESS, \"preprocessed_notes.p\"))"
   ]
  },
  {
   "cell_type": "markdown",
   "metadata": {},
   "source": [
    "### Additional preprocessing"
   ]
  },
  {
   "cell_type": "code",
   "execution_count": null,
   "metadata": {},
   "outputs": [],
   "source": [
    "# sub_notes = pd.read_pickle(os.path.join(PREPROCESS, \"preprocessed_notes.p\"))\n",
    "\n",
    "# def preprocess1(x):\n",
    "#     y=re.sub('\\\\[(.*?)\\\\]','',x) #remove de-identified brackets\n",
    "#     y=re.sub('[0-9]+\\.','',y) #remove 1.2. since the segmenter segments based on this\n",
    "#     y=re.sub('dr\\.','doctor',y)\n",
    "#     y=re.sub('m\\.d\\.','md',y)\n",
    "#     y=re.sub('admission date:','',y)\n",
    "#     y=re.sub('discharge date:','',y)\n",
    "#     y=re.sub('--|__|==','',y)\n",
    "#     return y\n",
    "\n",
    "# def preprocessing(df_less_n): \n",
    "#     df_less_n['preprocessed_text_v2']=df_less_n['preprocessed_text'].fillna(' ')\n",
    "#     df_less_n['preprocessed_text_v2']=df_less_n['preprocessed_text_v2'].str.replace('\\n',' ')\n",
    "#     #df_less_n['preprocessed_text_v2']=df_less_n['preprocessed_text_v2'].str.replace('\\r',' ')\n",
    "#     #df_less_n['preprocessed_text_v2']=df_less_n['preprocessed_text_v2'].apply(str.strip)\n",
    "#     #df_less_n['preprocessed_text_v2']=df_less_n['preprocessed_text_v2'].str.lower()\n",
    "\n",
    "#     df_less_n['preprocessed_text_v2']=df_less_n['preprocessed_text_v2'].apply(lambda x: preprocess1(x))\n",
    "    \n",
    "# sub_notes = preprocessing(sub_notes)"
   ]
  }
 ],
 "metadata": {
  "environment": {
   "kernel": "python3",
   "name": "tf2-gpu.2-11.m111",
   "type": "gcloud",
   "uri": "gcr.io/deeplearning-platform-release/tf2-gpu.2-11:m111"
  },
  "kernelspec": {
   "display_name": "Python 3",
   "language": "python",
   "name": "python3"
  },
  "language_info": {
   "codemirror_mode": {
    "name": "ipython",
    "version": 3
   },
   "file_extension": ".py",
   "mimetype": "text/x-python",
   "name": "python",
   "nbconvert_exporter": "python",
   "pygments_lexer": "ipython3",
   "version": "3.10.12"
  }
 },
 "nbformat": 4,
 "nbformat_minor": 4
}
